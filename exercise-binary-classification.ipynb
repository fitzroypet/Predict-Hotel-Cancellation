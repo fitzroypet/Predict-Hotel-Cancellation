{
 "cells": [
  {
   "cell_type": "markdown",
   "id": "c0c42a03",
   "metadata": {
    "papermill": {
     "duration": 0.014,
     "end_time": "2022-02-09T00:09:22.137588",
     "exception": false,
     "start_time": "2022-02-09T00:09:22.123588",
     "status": "completed"
    },
    "tags": []
   },
   "source": [
    "**This notebook is an exercise in the [Intro to Deep Learning](https://www.kaggle.com/learn/intro-to-deep-learning) course.  You can reference the tutorial at [this link](https://www.kaggle.com/ryanholbrook/binary-classification).**\n",
    "\n",
    "---\n"
   ]
  },
  {
   "cell_type": "markdown",
   "id": "60e17071",
   "metadata": {
    "papermill": {
     "duration": 0.011364,
     "end_time": "2022-02-09T00:09:22.164293",
     "exception": false,
     "start_time": "2022-02-09T00:09:22.152929",
     "status": "completed"
    },
    "tags": []
   },
   "source": [
    "# Introduction #\n",
    "\n",
    "In this exercise, you'll build a model to predict hotel cancellations with a binary classifier."
   ]
  },
  {
   "cell_type": "code",
   "execution_count": 1,
   "id": "8748baa6",
   "metadata": {
    "execution": {
     "iopub.execute_input": "2022-02-09T00:09:22.197639Z",
     "iopub.status.busy": "2022-02-09T00:09:22.192377Z",
     "iopub.status.idle": "2022-02-09T00:09:22.230059Z",
     "shell.execute_reply": "2022-02-09T00:09:22.229426Z",
     "shell.execute_reply.started": "2021-11-16T03:32:19.830372Z"
    },
    "lines_to_next_cell": 0,
    "papermill": {
     "duration": 0.054452,
     "end_time": "2022-02-09T00:09:22.230255",
     "exception": false,
     "start_time": "2022-02-09T00:09:22.175803",
     "status": "completed"
    },
    "tags": []
   },
   "outputs": [],
   "source": [
    "# Setup plotting\n",
    "import matplotlib.pyplot as plt\n",
    "plt.style.use('seaborn-whitegrid')\n",
    "# Set Matplotlib defaults\n",
    "plt.rc('figure', autolayout=True)\n",
    "plt.rc('axes', labelweight='bold', labelsize='large',\n",
    "       titleweight='bold', titlesize=18, titlepad=10)\n",
    "plt.rc('animation', html='html5')\n",
    "\n",
    "# Setup feedback system\n",
    "from learntools.core import binder\n",
    "binder.bind(globals())\n",
    "from learntools.deep_learning_intro.ex6 import *"
   ]
  },
  {
   "cell_type": "markdown",
   "id": "82a451e8",
   "metadata": {
    "papermill": {
     "duration": 0.01735,
     "end_time": "2022-02-09T00:09:22.259400",
     "exception": false,
     "start_time": "2022-02-09T00:09:22.242050",
     "status": "completed"
    },
    "tags": []
   },
   "source": [
    "First, load the *Hotel Cancellations* dataset."
   ]
  },
  {
   "cell_type": "code",
   "execution_count": 2,
   "id": "c9eecbb4",
   "metadata": {
    "execution": {
     "iopub.execute_input": "2022-02-09T00:09:22.321923Z",
     "iopub.status.busy": "2022-02-09T00:09:22.316382Z",
     "iopub.status.idle": "2022-02-09T00:09:24.941821Z",
     "shell.execute_reply": "2022-02-09T00:09:24.942403Z",
     "shell.execute_reply.started": "2021-11-16T03:37:27.248884Z"
    },
    "lines_to_next_cell": 2,
    "papermill": {
     "duration": 2.66043,
     "end_time": "2022-02-09T00:09:24.942589",
     "exception": false,
     "start_time": "2022-02-09T00:09:22.282159",
     "status": "completed"
    },
    "tags": []
   },
   "outputs": [],
   "source": [
    "import pandas as pd\n",
    "\n",
    "from sklearn.model_selection import train_test_split\n",
    "from sklearn.preprocessing import StandardScaler, OneHotEncoder\n",
    "from sklearn.impute import SimpleImputer\n",
    "from sklearn.pipeline import make_pipeline\n",
    "from sklearn.compose import make_column_transformer\n",
    "\n",
    "hotel = pd.read_csv('../input/dl-course-data/hotel.csv')\n",
    "\n",
    "X = hotel.copy()\n",
    "y = X.pop('is_canceled')\n",
    "\n",
    "X['arrival_date_month'] = \\\n",
    "    X['arrival_date_month'].map(\n",
    "        {'January':1, 'February': 2, 'March':3,\n",
    "         'April':4, 'May':5, 'June':6, 'July':7,\n",
    "         'August':8, 'September':9, 'October':10,\n",
    "         'November':11, 'December':12}\n",
    "    )\n",
    "\n",
    "features_num = [\n",
    "    \"lead_time\", \"arrival_date_week_number\",\n",
    "    \"arrival_date_day_of_month\", \"stays_in_weekend_nights\",\n",
    "    \"stays_in_week_nights\", \"adults\", \"children\", \"babies\",\n",
    "    \"is_repeated_guest\", \"previous_cancellations\",\n",
    "    \"previous_bookings_not_canceled\", \"required_car_parking_spaces\",\n",
    "    \"total_of_special_requests\", \"adr\",\n",
    "]\n",
    "features_cat = [\n",
    "    \"hotel\", \"arrival_date_month\", \"meal\",\n",
    "    \"market_segment\", \"distribution_channel\",\n",
    "    \"reserved_room_type\", \"deposit_type\", \"customer_type\",\n",
    "]\n",
    "\n",
    "transformer_num = make_pipeline(\n",
    "    SimpleImputer(strategy=\"constant\"), # there are a few missing values\n",
    "    StandardScaler(),\n",
    ")\n",
    "transformer_cat = make_pipeline(\n",
    "    SimpleImputer(strategy=\"constant\", fill_value=\"NA\"),\n",
    "    OneHotEncoder(handle_unknown='ignore'),\n",
    ")\n",
    "\n",
    "preprocessor = make_column_transformer(\n",
    "    (transformer_num, features_num),\n",
    "    (transformer_cat, features_cat),\n",
    ")\n",
    "\n",
    "# stratify - make sure classes are evenlly represented across splits\n",
    "X_train, X_valid, y_train, y_valid = \\\n",
    "    train_test_split(X, y, stratify=y, train_size=0.75)\n",
    "\n",
    "X_train = preprocessor.fit_transform(X_train)\n",
    "X_valid = preprocessor.transform(X_valid)\n",
    "\n",
    "input_shape = [X_train.shape[1]]"
   ]
  },
  {
   "cell_type": "markdown",
   "id": "8264312a",
   "metadata": {
    "papermill": {
     "duration": 0.011585,
     "end_time": "2022-02-09T00:09:24.966387",
     "exception": false,
     "start_time": "2022-02-09T00:09:24.954802",
     "status": "completed"
    },
    "tags": []
   },
   "source": [
    "# 1) Define Model #\n",
    "\n",
    "The model we'll use this time will have both batch normalization and dropout layers. To ease reading we've broken the diagram into blocks, but you can define it layer by layer as usual.\n",
    "\n",
    "Define a model with an architecture given by this diagram:\n",
    "\n",
    "<figure style=\"padding: 1em;\">\n",
    "<img src=\"https://i.imgur.com/V04o59Z.png\" width=\"400\" alt=\"Diagram of network architecture: BatchNorm, Dense, BatchNorm, Dropout, Dense, BatchNorm, Dropout, Dense.\">\n",
    "<figcaption style=\"textalign: center; font-style: italic\"><center>Diagram of a binary classifier.</center></figcaption>\n",
    "</figure>\n"
   ]
  },
  {
   "cell_type": "code",
   "execution_count": 3,
   "id": "7d3fb2af",
   "metadata": {
    "execution": {
     "iopub.execute_input": "2022-02-09T00:09:24.997505Z",
     "iopub.status.busy": "2022-02-09T00:09:24.996739Z",
     "iopub.status.idle": "2022-02-09T00:09:34.035104Z",
     "shell.execute_reply": "2022-02-09T00:09:34.034563Z",
     "shell.execute_reply.started": "2021-11-16T03:50:48.289602Z"
    },
    "lines_to_next_cell": 2,
    "papermill": {
     "duration": 9.056892,
     "end_time": "2022-02-09T00:09:34.035271",
     "exception": false,
     "start_time": "2022-02-09T00:09:24.978379",
     "status": "completed"
    },
    "tags": []
   },
   "outputs": [
    {
     "name": "stderr",
     "output_type": "stream",
     "text": [
      "2022-02-09 00:09:30.996354: I tensorflow/stream_executor/cuda/cuda_gpu_executor.cc:937] successful NUMA node read from SysFS had negative value (-1), but there must be at least one NUMA node, so returning NUMA node zero\n",
      "2022-02-09 00:09:31.114513: I tensorflow/stream_executor/cuda/cuda_gpu_executor.cc:937] successful NUMA node read from SysFS had negative value (-1), but there must be at least one NUMA node, so returning NUMA node zero\n",
      "2022-02-09 00:09:31.115642: I tensorflow/stream_executor/cuda/cuda_gpu_executor.cc:937] successful NUMA node read from SysFS had negative value (-1), but there must be at least one NUMA node, so returning NUMA node zero\n",
      "2022-02-09 00:09:31.117278: I tensorflow/core/platform/cpu_feature_guard.cc:142] This TensorFlow binary is optimized with oneAPI Deep Neural Network Library (oneDNN) to use the following CPU instructions in performance-critical operations:  AVX2 FMA\n",
      "To enable them in other operations, rebuild TensorFlow with the appropriate compiler flags.\n",
      "2022-02-09 00:09:31.118538: I tensorflow/stream_executor/cuda/cuda_gpu_executor.cc:937] successful NUMA node read from SysFS had negative value (-1), but there must be at least one NUMA node, so returning NUMA node zero\n",
      "2022-02-09 00:09:31.119645: I tensorflow/stream_executor/cuda/cuda_gpu_executor.cc:937] successful NUMA node read from SysFS had negative value (-1), but there must be at least one NUMA node, so returning NUMA node zero\n",
      "2022-02-09 00:09:31.120687: I tensorflow/stream_executor/cuda/cuda_gpu_executor.cc:937] successful NUMA node read from SysFS had negative value (-1), but there must be at least one NUMA node, so returning NUMA node zero\n",
      "2022-02-09 00:09:33.400172: I tensorflow/stream_executor/cuda/cuda_gpu_executor.cc:937] successful NUMA node read from SysFS had negative value (-1), but there must be at least one NUMA node, so returning NUMA node zero\n",
      "2022-02-09 00:09:33.401663: I tensorflow/stream_executor/cuda/cuda_gpu_executor.cc:937] successful NUMA node read from SysFS had negative value (-1), but there must be at least one NUMA node, so returning NUMA node zero\n",
      "2022-02-09 00:09:33.402987: I tensorflow/stream_executor/cuda/cuda_gpu_executor.cc:937] successful NUMA node read from SysFS had negative value (-1), but there must be at least one NUMA node, so returning NUMA node zero\n",
      "2022-02-09 00:09:33.404537: I tensorflow/core/common_runtime/gpu/gpu_device.cc:1510] Created device /job:localhost/replica:0/task:0/device:GPU:0 with 15403 MB memory:  -> device: 0, name: Tesla P100-PCIE-16GB, pci bus id: 0000:00:04.0, compute capability: 6.0\n"
     ]
    },
    {
     "data": {
      "application/javascript": "parent.postMessage({\"jupyterEvent\": \"custom.exercise_interaction\", \"data\": {\"outcomeType\": 1, \"valueTowardsCompletion\": 0.3333333333333333, \"interactionType\": 1, \"questionType\": 2, \"questionId\": \"1_Q1\", \"learnToolsVersion\": \"0.3.4\", \"failureMessage\": \"\", \"exceptionClass\": \"\", \"trace\": \"\"}}, \"*\")",
      "text/plain": [
       "<IPython.core.display.Javascript object>"
      ]
     },
     "metadata": {},
     "output_type": "display_data"
    },
    {
     "data": {
      "text/markdown": [
       "<span style=\"color:#33cc33\">Correct</span>"
      ],
      "text/plain": [
       "Correct"
      ]
     },
     "metadata": {},
     "output_type": "display_data"
    }
   ],
   "source": [
    "from tensorflow import keras\n",
    "from tensorflow.keras import layers\n",
    "\n",
    "# YOUR CODE HERE: define the model given in the diagram\n",
    "model = keras.Sequential([\n",
    "    layers.BatchNormalization(input_shape=input_shape),\n",
    "    layers.Dense(256, activation='relu'),\n",
    "    layers.BatchNormalization(),\n",
    "    layers.Dropout(0.3),\n",
    "    layers.Dense(256, activation='relu'),\n",
    "    layers.BatchNormalization(),\n",
    "    layers.Dropout(0.3),\n",
    "    layers.Dense(1, activation='sigmoid')\n",
    "])\n",
    "\n",
    "# Check your answer\n",
    "q_1.check()"
   ]
  },
  {
   "cell_type": "markdown",
   "id": "18b084bc",
   "metadata": {
    "papermill": {
     "duration": 0.013444,
     "end_time": "2022-02-09T00:09:34.062585",
     "exception": false,
     "start_time": "2022-02-09T00:09:34.049141",
     "status": "completed"
    },
    "tags": []
   },
   "source": [
    "# 2) Add Optimizer, Loss, and Metric #\n",
    "\n",
    "Now compile the model with the Adam optimizer and binary versions of the cross-entropy loss and accuracy metric."
   ]
  },
  {
   "cell_type": "code",
   "execution_count": 4,
   "id": "e1742732",
   "metadata": {
    "execution": {
     "iopub.execute_input": "2022-02-09T00:09:34.098465Z",
     "iopub.status.busy": "2022-02-09T00:09:34.097373Z",
     "iopub.status.idle": "2022-02-09T00:09:34.114728Z",
     "shell.execute_reply": "2022-02-09T00:09:34.115340Z",
     "shell.execute_reply.started": "2021-11-16T03:53:07.463819Z"
    },
    "lines_to_next_cell": 0,
    "papermill": {
     "duration": 0.0394,
     "end_time": "2022-02-09T00:09:34.115588",
     "exception": false,
     "start_time": "2022-02-09T00:09:34.076188",
     "status": "completed"
    },
    "tags": []
   },
   "outputs": [
    {
     "data": {
      "application/javascript": "parent.postMessage({\"jupyterEvent\": \"custom.exercise_interaction\", \"data\": {\"outcomeType\": 1, \"valueTowardsCompletion\": 0.3333333333333333, \"interactionType\": 1, \"questionType\": 2, \"questionId\": \"2_Q2\", \"learnToolsVersion\": \"0.3.4\", \"failureMessage\": \"\", \"exceptionClass\": \"\", \"trace\": \"\"}}, \"*\")",
      "text/plain": [
       "<IPython.core.display.Javascript object>"
      ]
     },
     "metadata": {},
     "output_type": "display_data"
    },
    {
     "data": {
      "text/markdown": [
       "<span style=\"color:#33cc33\">Correct</span>"
      ],
      "text/plain": [
       "Correct"
      ]
     },
     "metadata": {},
     "output_type": "display_data"
    }
   ],
   "source": [
    "# YOUR CODE HERE\n",
    "model.compile(\n",
    "    optimizer='adam',\n",
    "    loss='binary_crossentropy',\n",
    "    metrics=['binary_accuracy'],\n",
    ")\n",
    "\n",
    "# Check your answer\n",
    "q_2.check()"
   ]
  },
  {
   "cell_type": "code",
   "execution_count": 5,
   "id": "01a07c19",
   "metadata": {
    "execution": {
     "iopub.execute_input": "2022-02-09T00:09:34.152483Z",
     "iopub.status.busy": "2022-02-09T00:09:34.149967Z",
     "iopub.status.idle": "2022-02-09T00:09:34.153255Z",
     "shell.execute_reply": "2022-02-09T00:09:34.153840Z"
    },
    "lines_to_next_cell": 0,
    "papermill": {
     "duration": 0.023351,
     "end_time": "2022-02-09T00:09:34.154041",
     "exception": false,
     "start_time": "2022-02-09T00:09:34.130690",
     "status": "completed"
    },
    "tags": []
   },
   "outputs": [],
   "source": [
    "# Lines below will give you a hint or solution code\n",
    "#q_2.hint()\n",
    "#q_2.solution()"
   ]
  },
  {
   "cell_type": "markdown",
   "id": "f956a33b",
   "metadata": {
    "papermill": {
     "duration": 0.014439,
     "end_time": "2022-02-09T00:09:34.183452",
     "exception": false,
     "start_time": "2022-02-09T00:09:34.169013",
     "status": "completed"
    },
    "tags": []
   },
   "source": [
    "Finally, run this cell to train the model and view the learning curves. It may run for around 60 to 70 epochs, which could take a minute or two."
   ]
  },
  {
   "cell_type": "code",
   "execution_count": 6,
   "id": "e30b16c3",
   "metadata": {
    "execution": {
     "iopub.execute_input": "2022-02-09T00:09:34.221312Z",
     "iopub.status.busy": "2022-02-09T00:09:34.220164Z",
     "iopub.status.idle": "2022-02-09T00:10:11.570378Z",
     "shell.execute_reply": "2022-02-09T00:10:11.570919Z",
     "shell.execute_reply.started": "2021-11-16T03:55:08.328839Z"
    },
    "papermill": {
     "duration": 37.37305,
     "end_time": "2022-02-09T00:10:11.571095",
     "exception": false,
     "start_time": "2022-02-09T00:09:34.198045",
     "status": "completed"
    },
    "tags": []
   },
   "outputs": [
    {
     "name": "stderr",
     "output_type": "stream",
     "text": [
      "2022-02-09 00:09:34.347255: I tensorflow/compiler/mlir/mlir_graph_optimization_pass.cc:185] None of the MLIR Optimization Passes are enabled (registered 2)\n"
     ]
    },
    {
     "name": "stdout",
     "output_type": "stream",
     "text": [
      "Epoch 1/200\n",
      "175/175 [==============================] - 3s 7ms/step - loss: 0.4743 - binary_accuracy: 0.7772 - val_loss: 0.4300 - val_binary_accuracy: 0.8038\n",
      "Epoch 2/200\n",
      "175/175 [==============================] - 1s 6ms/step - loss: 0.4218 - binary_accuracy: 0.8029 - val_loss: 0.4015 - val_binary_accuracy: 0.8112\n",
      "Epoch 3/200\n",
      "175/175 [==============================] - 1s 6ms/step - loss: 0.4084 - binary_accuracy: 0.8101 - val_loss: 0.3937 - val_binary_accuracy: 0.8171\n",
      "Epoch 4/200\n",
      "175/175 [==============================] - 1s 6ms/step - loss: 0.4006 - binary_accuracy: 0.8130 - val_loss: 0.3897 - val_binary_accuracy: 0.8196\n",
      "Epoch 5/200\n",
      "175/175 [==============================] - 1s 6ms/step - loss: 0.3959 - binary_accuracy: 0.8164 - val_loss: 0.3858 - val_binary_accuracy: 0.8186\n",
      "Epoch 6/200\n",
      "175/175 [==============================] - 1s 6ms/step - loss: 0.3911 - binary_accuracy: 0.8188 - val_loss: 0.3839 - val_binary_accuracy: 0.8208\n",
      "Epoch 7/200\n",
      "175/175 [==============================] - 1s 6ms/step - loss: 0.3870 - binary_accuracy: 0.8202 - val_loss: 0.3823 - val_binary_accuracy: 0.8254\n",
      "Epoch 8/200\n",
      "175/175 [==============================] - 1s 8ms/step - loss: 0.3837 - binary_accuracy: 0.8221 - val_loss: 0.3799 - val_binary_accuracy: 0.8260\n",
      "Epoch 9/200\n",
      "175/175 [==============================] - 1s 6ms/step - loss: 0.3820 - binary_accuracy: 0.8229 - val_loss: 0.3739 - val_binary_accuracy: 0.8285\n",
      "Epoch 10/200\n",
      "175/175 [==============================] - 1s 6ms/step - loss: 0.3779 - binary_accuracy: 0.8251 - val_loss: 0.3705 - val_binary_accuracy: 0.8303\n",
      "Epoch 11/200\n",
      "175/175 [==============================] - 1s 6ms/step - loss: 0.3759 - binary_accuracy: 0.8253 - val_loss: 0.3696 - val_binary_accuracy: 0.8289\n",
      "Epoch 12/200\n",
      "175/175 [==============================] - 1s 6ms/step - loss: 0.3736 - binary_accuracy: 0.8273 - val_loss: 0.3694 - val_binary_accuracy: 0.8299\n",
      "Epoch 13/200\n",
      "175/175 [==============================] - 1s 6ms/step - loss: 0.3725 - binary_accuracy: 0.8278 - val_loss: 0.3695 - val_binary_accuracy: 0.8298\n",
      "Epoch 14/200\n",
      "175/175 [==============================] - 1s 6ms/step - loss: 0.3692 - binary_accuracy: 0.8282 - val_loss: 0.3653 - val_binary_accuracy: 0.8319\n",
      "Epoch 15/200\n",
      "175/175 [==============================] - 1s 6ms/step - loss: 0.3688 - binary_accuracy: 0.8302 - val_loss: 0.3676 - val_binary_accuracy: 0.8327\n",
      "Epoch 16/200\n",
      "175/175 [==============================] - 1s 6ms/step - loss: 0.3661 - binary_accuracy: 0.8307 - val_loss: 0.3628 - val_binary_accuracy: 0.8332\n",
      "Epoch 17/200\n",
      "175/175 [==============================] - 1s 6ms/step - loss: 0.3645 - binary_accuracy: 0.8318 - val_loss: 0.3638 - val_binary_accuracy: 0.8350\n",
      "Epoch 18/200\n",
      "175/175 [==============================] - 1s 8ms/step - loss: 0.3611 - binary_accuracy: 0.8330 - val_loss: 0.3597 - val_binary_accuracy: 0.8355\n",
      "Epoch 19/200\n",
      "175/175 [==============================] - 1s 6ms/step - loss: 0.3612 - binary_accuracy: 0.8330 - val_loss: 0.3628 - val_binary_accuracy: 0.8346\n",
      "Epoch 20/200\n",
      "175/175 [==============================] - 1s 6ms/step - loss: 0.3599 - binary_accuracy: 0.8320 - val_loss: 0.3625 - val_binary_accuracy: 0.8330\n",
      "Epoch 21/200\n",
      "175/175 [==============================] - 1s 6ms/step - loss: 0.3572 - binary_accuracy: 0.8347 - val_loss: 0.3589 - val_binary_accuracy: 0.8344\n",
      "Epoch 22/200\n",
      "175/175 [==============================] - 1s 7ms/step - loss: 0.3564 - binary_accuracy: 0.8358 - val_loss: 0.3584 - val_binary_accuracy: 0.8360\n",
      "Epoch 23/200\n",
      "175/175 [==============================] - 2s 9ms/step - loss: 0.3550 - binary_accuracy: 0.8370 - val_loss: 0.3583 - val_binary_accuracy: 0.8355\n",
      "Epoch 24/200\n",
      "175/175 [==============================] - 1s 6ms/step - loss: 0.3546 - binary_accuracy: 0.8359 - val_loss: 0.3562 - val_binary_accuracy: 0.8369\n",
      "Epoch 25/200\n",
      "175/175 [==============================] - 1s 8ms/step - loss: 0.3518 - binary_accuracy: 0.8372 - val_loss: 0.3536 - val_binary_accuracy: 0.8379\n",
      "Epoch 26/200\n",
      "175/175 [==============================] - 1s 6ms/step - loss: 0.3507 - binary_accuracy: 0.8382 - val_loss: 0.3545 - val_binary_accuracy: 0.8393\n",
      "Epoch 27/200\n",
      "175/175 [==============================] - 1s 8ms/step - loss: 0.3506 - binary_accuracy: 0.8379 - val_loss: 0.3538 - val_binary_accuracy: 0.8389\n",
      "Epoch 28/200\n",
      "175/175 [==============================] - 1s 7ms/step - loss: 0.3495 - binary_accuracy: 0.8383 - val_loss: 0.3548 - val_binary_accuracy: 0.8373\n",
      "Epoch 29/200\n",
      "175/175 [==============================] - 1s 7ms/step - loss: 0.3489 - binary_accuracy: 0.8390 - val_loss: 0.3543 - val_binary_accuracy: 0.8371\n",
      "Epoch 30/200\n",
      "175/175 [==============================] - 1s 7ms/step - loss: 0.3479 - binary_accuracy: 0.8398 - val_loss: 0.3536 - val_binary_accuracy: 0.8399\n"
     ]
    },
    {
     "data": {
      "text/plain": [
       "<AxesSubplot:title={'center':'Accuracy'}>"
      ]
     },
     "execution_count": 6,
     "metadata": {},
     "output_type": "execute_result"
    },
    {
     "data": {
      "image/png": "[encoded data removed]",
      "text/plain": [
       "<Figure size 432x288 with 1 Axes>"
      ]
     },
     "metadata": {},
     "output_type": "display_data"
    },
    {
     "data": {
      "image/png": "[encoded data removed]",
      "text/plain": [
       "<Figure size 432x288 with 1 Axes>"
      ]
     },
     "metadata": {},
     "output_type": "display_data"
    }
   ],
   "source": [
    "early_stopping = keras.callbacks.EarlyStopping(\n",
    "    patience=5,\n",
    "    min_delta=0.001,\n",
    "    restore_best_weights=True,\n",
    ")\n",
    "history = model.fit(\n",
    "    X_train, y_train,\n",
    "    validation_data=(X_valid, y_valid),\n",
    "    batch_size=512,\n",
    "    epochs=200,\n",
    "    callbacks=[early_stopping],\n",
    ")\n",
    "\n",
    "history_df = pd.DataFrame(history.history)\n",
    "history_df.loc[:, ['loss', 'val_loss']].plot(title=\"Cross-entropy\")\n",
    "history_df.loc[:, ['binary_accuracy', 'val_binary_accuracy']].plot(title=\"Accuracy\")"
   ]
  },
  {
   "cell_type": "markdown",
   "id": "165f3fcc",
   "metadata": {
    "papermill": {
     "duration": 0.219642,
     "end_time": "2022-02-09T00:10:12.006991",
     "exception": false,
     "start_time": "2022-02-09T00:10:11.787349",
     "status": "completed"
    },
    "tags": []
   },
   "source": [
    "# 3) Train and Evaluate #\n",
    "\n",
    "\n",
    "What do you think about the learning curves? Does it look like the model underfit or overfit? Was the cross-entropy loss a good stand-in for accuracy?"
   ]
  },
  {
   "cell_type": "code",
   "execution_count": 7,
   "id": "ab1c2190",
   "metadata": {
    "execution": {
     "iopub.execute_input": "2022-02-09T00:10:12.454831Z",
     "iopub.status.busy": "2022-02-09T00:10:12.453709Z",
     "iopub.status.idle": "2022-02-09T00:10:12.459250Z",
     "shell.execute_reply": "2022-02-09T00:10:12.459757Z",
     "shell.execute_reply.started": "2021-11-16T03:57:28.797582Z"
    },
    "papermill": {
     "duration": 0.231983,
     "end_time": "2022-02-09T00:10:12.459924",
     "exception": false,
     "start_time": "2022-02-09T00:10:12.227941",
     "status": "completed"
    },
    "tags": []
   },
   "outputs": [
    {
     "data": {
      "application/javascript": "parent.postMessage({\"jupyterEvent\": \"custom.exercise_interaction\", \"data\": {\"outcomeType\": 1, \"valueTowardsCompletion\": 0.3333333333333333, \"interactionType\": 1, \"questionType\": 4, \"questionId\": \"3_Q3\", \"learnToolsVersion\": \"0.3.4\", \"failureMessage\": \"\", \"exceptionClass\": \"\", \"trace\": \"\"}}, \"*\")",
      "text/plain": [
       "<IPython.core.display.Javascript object>"
      ]
     },
     "metadata": {},
     "output_type": "display_data"
    },
    {
     "data": {
      "text/markdown": [
       "<span style=\"color:#33cc33\">Correct:</span> \n",
       "\n",
       "Though we can see the training loss continuing to fall, the early stopping callback prevented any overfitting. Moreover, the accuracy rose at the same rate as the cross-entropy fell, so it appears that minimizing cross-entropy was a good stand-in. All in all, it looks like this training was a success!"
      ],
      "text/plain": [
       "Correct: \n",
       "\n",
       "Though we can see the training loss continuing to fall, the early stopping callback prevented any overfitting. Moreover, the accuracy rose at the same rate as the cross-entropy fell, so it appears that minimizing cross-entropy was a good stand-in. All in all, it looks like this training was a success!"
      ]
     },
     "metadata": {},
     "output_type": "display_data"
    }
   ],
   "source": [
    "# View the solution (Run this cell to receive credit!)\n",
    "q_3.check()"
   ]
  },
  {
   "cell_type": "markdown",
   "id": "b81ab1a8",
   "metadata": {
    "papermill": {
     "duration": 0.220082,
     "end_time": "2022-02-09T00:10:12.901075",
     "exception": false,
     "start_time": "2022-02-09T00:10:12.680993",
     "status": "completed"
    },
    "tags": []
   },
   "source": [
    "# Conclusion #\n",
    "\n",
    "Congratulations! You've completed Kaggle's *Introduction to Deep Learning* course!\n",
    "\n",
    "With your new skills you're ready to take on more advanced applications like computer vision and sentiment classification. What would you like to do next?\n",
    "\n",
    "Why not try one of our *Getting Started* competitions?\n",
    "\n",
    "- Classify images with TPUs in [**Petals to the Metal**](https://www.kaggle.com/c/tpu-getting-started)\n",
    "- Create art with GANs in [**I'm Something of a Painter Myself**](https://www.kaggle.com/c/gan-getting-started)\n",
    "- Classify Tweets in [**Real or Not? NLP with Disaster Tweets**](https://www.kaggle.com/c/nlp-getting-started)\n",
    "- Detect contradiction and entailment in [**Contradictory, My Dear Watson**](https://www.kaggle.com/c/contradictory-my-dear-watson)\n",
    "\n",
    "Until next time, Kagglers!"
   ]
  },
  {
   "cell_type": "markdown",
   "id": "9e46799a",
   "metadata": {
    "papermill": {
     "duration": 0.22835,
     "end_time": "2022-02-09T00:10:13.355948",
     "exception": false,
     "start_time": "2022-02-09T00:10:13.127598",
     "status": "completed"
    },
    "tags": []
   },
   "source": [
    "---\n",
    "\n",
    "\n",
    "\n",
    "\n",
    "*Have questions or comments? Visit the [course discussion forum](https://www.kaggle.com/learn/intro-to-deep-learning/discussion) to chat with other learners.*"
   ]
  }
 ],
 "metadata": {
  "kernelspec": {
   "display_name": "Python 3",
   "language": "python",
   "name": "python3"
  },
  "language_info": {
   "codemirror_mode": {
    "name": "ipython",
    "version": 3
   },
   "file_extension": ".py",
   "mimetype": "text/x-python",
   "name": "python",
   "nbconvert_exporter": "python",
   "pygments_lexer": "ipython3",
   "version": "3.7.12"
  },
  "papermill": {
   "default_parameters": {},
   "duration": 64.750026,
   "end_time": "2022-02-09T00:10:16.993214",
   "environment_variables": {},
   "exception": null,
   "input_path": "__notebook__.ipynb",
   "output_path": "__notebook__.ipynb",
   "parameters": {},
   "start_time": "2022-02-09T00:09:12.243188",
   "version": "2.3.3"
  }
 },
 "nbformat": 4,
 "nbformat_minor": 5
}
